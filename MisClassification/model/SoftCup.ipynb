{
 "cells": [
  {
   "cell_type": "code",
   "execution_count": null,
   "metadata": {
    "collapsed": true
   },
   "outputs": [],
   "source": [
    "#导包\n",
    "import  pandas as pd\n",
    "import numpy as np\n",
    "import os\n",
    "from fancyimpute import KNN\n",
    "from sklearn.model_selection import train_test_split\n",
    "from sklearn.neural_network import MLPClassifier\n",
    "#朴素贝叶斯\n",
    "\n",
    "from sklearn.naive_bayes import  BernoulliNB#伯努利\n",
    "\n",
    "#k近邻\n",
    "from sklearn.neighbors import KNeighborsClassifier\n",
    "\n",
    "#随机森林填充缺失值\n",
    "from sklearn.experimental import enable_iterative_imputer\n",
    "#MICE多重差补\n",
    "from sklearn.impute import IterativeImputer\n",
    "from sklearn.ensemble import RandomForestRegressor\n",
    "\n",
    "#miceforest实现多重插补\n",
    "import miceforest as mf\n",
    "\n",
    "#特征工程\n",
    "from sklearn.feature_selection import RFE\n",
    "from sklearn.svm import SVR\n",
    "from sklearn.svm import SVC\n",
    "from sklearn.linear_model import LogisticRegression\n",
    "from sklearn.tree import DecisionTreeClassifier\n",
    "from sklearn.ensemble import RandomForestClassifier\n",
    "from sklearn.feature_selection import RFECV\n",
    "from sklearn.model_selection import KFold\n",
    "#欠采样与过采样\n",
    "from imblearn.over_sampling import RandomOverSampler\n",
    "from imblearn.under_sampling import RandomUnderSampler\n",
    "\n",
    "from sklearn.metrics import f1_score\n",
    "from sklearn.preprocessing import StandardScaler\n",
    "from sklearn.model_selection import GridSearchCV\n",
    "#随机调参\n",
    "from sklearn.model_selection import RandomizedSearchCV\n",
    "from scipy.stats import uniform, randint\n",
    "from sklearn.model_selection import cross_val_score#交叉验证\n",
    "from sklearn.metrics import accuracy_score\n",
    "from sklearn.metrics import classification_report#分类报告\n",
    "import xgboost as xgb\n",
    "\n",
    "#多模融合bagging\n",
    "from sklearn.ensemble import BaggingClassifier\n",
    "#Stacking\n",
    "from sklearn.ensemble import StackingClassifier\n",
    "from sklearn import svm\n",
    "\n",
    "#Visual Programming\n",
    "import matplotlib.pyplot as plt\n",
    "import seaborn as sns\n",
    "\n",
    "#Feature Engineering\n",
    "from sklearn.feature_selection import SelectKBest,chi2,f_classif"
   ]
  },
  {
   "cell_type": "code",
   "execution_count": null,
   "outputs": [],
   "source": [
    "df=pd.read_csv('C:\\\\Users\\\\zhang\\\\Desktop\\\\服务外包\\\\训练集\\\\train_10000.csv')\n",
    "#读入数据\n",
    "df=df.drop_duplicates()\n",
    "filter_feature=[]\n",
    "# 遍历每一列，过滤无用特征\n",
    "for col in df.columns:\n",
    "    # 检查该列是否所有值都为空\n",
    "    if df[col].isnull().all():\n",
    "        filter_feature.append(col)\n",
    "        df.drop(col, axis=1)\n",
    "    # 检查该列是否所有值都相同\n",
    "    elif len(np.unique(df[col])) == 1:\n",
    "        filter_feature.append(col)\n",
    "        df.drop(col, axis=1) # 过滤无用的特性，value=0\n",
    "\n",
    "filter_feature.append('sample_id')\n",
    "df=df.drop(filter_feature,axis=1)\n",
    "\n",
    "features = []\n",
    "for x in df.columns: # 取特征\n",
    "    if x not in filter_feature:\n",
    "        features.append(x)\n",
    "y=np.array(df[\"label\"],dtype=\"int\")"
   ],
   "metadata": {
    "collapsed": false
   }
  },
  {
   "cell_type": "code",
   "execution_count": null,
   "outputs": [],
   "source": [
    "train_df,test_df=train_test_split(df,test_size=0.3,random_state=42)\n",
    "# 遍历每个特征并绘制KDE分布图\n",
    "for col in train_df.columns:\n",
    "    # 绘制训练集和测试集的KDE分布图\n",
    "    sns.kdeplot(data=train_df[col], label='Train')\n",
    "    sns.kdeplot(data=test_df[col], label='Test')\n",
    "\n",
    "    # 添加图例和标题\n",
    "    plt.legend()\n",
    "    plt.title(f'KDE Plot of {col}')\n",
    "\n",
    "    # 显示图形\n",
    "    plt.show()"
   ],
   "metadata": {
    "collapsed": false
   }
  },
  {
   "cell_type": "code",
   "execution_count": null,
   "outputs": [],
   "source": [
    "#数据类型分类\n",
    "int64_features=[]\n",
    "float_features=[]\n",
    "object_features=[]\n",
    "category_features=[]\n",
    "for col_name, col in df.iteritems():\n",
    "    if col.dtype=='float64':\n",
    "        float_features.append(col_name)\n",
    "    elif col.dtype=='int64':\n",
    "        int64_features.append(col_name)\n",
    "    elif col.dtype=='category':\n",
    "        category_features.append(col_name)\n",
    "    else:\n",
    "        object_features.append(col_name)"
   ],
   "metadata": {
    "collapsed": false
   }
  },
  {
   "cell_type": "code",
   "execution_count": null,
   "outputs": [],
   "source": [
    "#连续型和类别型\n",
    "continuous_columns = df.select_dtypes(include=['float64']).columns\n",
    "categorical_columns = df.select_dtypes(include=['int64']).columns"
   ],
   "metadata": {
    "collapsed": false
   }
  },
  {
   "cell_type": "code",
   "execution_count": null,
   "outputs": [],
   "source": [
    "#单变量分析，数据分布直方图\n",
    "sns.set()\n",
    "\n",
    "# 假设有一个名为df的数据框\n",
    "n_features =105\n",
    "\n",
    "# 设置画布大小\n",
    "plt.figure(figsize=(10, n_features * 5))\n",
    "\n",
    "for i, feature in enumerate(features):\n",
    "    plt.subplot(n_features, 1, i + 1)\n",
    "    sns.histplot(df[feature], kde=True)\n",
    "    plt.title(feature)\n",
    "\n",
    "plt.tight_layout()\n",
    "plt.show()"
   ],
   "metadata": {
    "collapsed": false
   }
  },
  {
   "cell_type": "code",
   "execution_count": null,
   "outputs": [],
   "source": [
    "#双变量分析，相关系数的热力图\n",
    "corr = df.corr()\n",
    "plt.figure(figsize=(96, 72))\n",
    "# 绘制热力图\n",
    "sns.heatmap(corr,annot=True)\n",
    "plt.show()"
   ],
   "metadata": {
    "collapsed": false
   }
  },
  {
   "cell_type": "code",
   "execution_count": null,
   "outputs": [],
   "source": [
    "#缺失值处理，使用miceforest库进行多重差补\n",
    "# 创建内核数据集\n",
    "kernel = mf.ImputationKernel(\n",
    "  data=df,\n",
    "  save_all_iterations=False,\n",
    "  random_state=42\n",
    ")\n",
    "\n",
    "# 执行多重插补\n",
    "kernel.mice(3)\n",
    "\n",
    "# 获取插补后的数据\n",
    "df= kernel.impute_new_data(new_data=df).complete_data(0)"
   ],
   "metadata": {
    "collapsed": false
   }
  },
  {
   "cell_type": "code",
   "execution_count": null,
   "outputs": [],
   "source": [
    "x=np.array(df.iloc[:,0:104],dtype=\"double\")\n",
    "# 创建一个随机森林回归器\n",
    "estimator = RandomForestClassifier(random_state=42)\n",
    "\n",
    "# 创建一个RFE实例\n",
    "selector = RFE(estimator, n_features_to_select=23)\n",
    "\n",
    "# 拟合数据\n",
    "selector = selector.fit(x, y)\n",
    "\n",
    "# 查看选定的特征\n",
    "selected_features = selector.support_\n",
    "\n",
    "# 更新数据集，只保留选定的特征\n",
    "x = x[:, selected_features]"
   ],
   "metadata": {
    "collapsed": false
   }
  },
  {
   "cell_type": "code",
   "execution_count": null,
   "outputs": [],
   "source": [
    "x_train,x_test,y_train,y_test=train_test_split(x,y,test_size=0.3,random_state=42)"
   ],
   "metadata": {
    "collapsed": false
   }
  },
  {
   "cell_type": "code",
   "execution_count": null,
   "outputs": [],
   "source": [
    "#XGB随机调参\n",
    "# 定义超参数分布\n",
    "param_dist = {\n",
    "    'n_estimators': randint(100, 1000),\n",
    "    'learning_rate': uniform(0.01, 0.6),\n",
    "    'max_depth': randint(2, 6),\n",
    "    'min_child_weight': randint(1, 10),\n",
    "    'subsample': uniform(0.5, 0.5),\n",
    "    'gamma': uniform(0, 10),\n",
    "    'colsample_bytree': uniform(0.5, 0.5),#表示均匀分布，最小值0.5，最大值1\n",
    "    'reg_lambda': uniform(0.1, 10)\n",
    "}\n",
    "\n",
    "# 创建一个XGBClassifier实例\n",
    "model = xgb.XGBClassifier(objective='multi:softmax', num_class=6)\n",
    "\n",
    "# 创建一个RandomizedSearchCV实例\n",
    "search = RandomizedSearchCV(model, param_distributions=param_dist,\n",
    "                            n_iter=25, scoring='f1', cv=5)\n",
    "\n",
    "# 拟合数据\n",
    "search.fit(x, y)\n",
    "\n",
    "# 查看最优超参数组合\n",
    "best_params = search.best_params_\n",
    "best_params"
   ],
   "metadata": {
    "collapsed": false
   }
  },
  {
   "cell_type": "code",
   "execution_count": null,
   "outputs": [],
   "source": [
    "base_estimators = [('svc', SVC()),\n",
    "                   ('dt', DecisionTreeClassifier()),\n",
    "                   ('mlp',MLPClassifier( solver='adam', learning_rate= 'adaptive', hidden_layer_sizes= (128, 64), activation= 'tanh')),\n",
    "                   ('xgb',xgb.XGBClassifier(objective='multi:softmax', num_class=6,**best_params))\n",
    "]\n",
    "\n",
    "# 创建元分类器\n",
    "meta_estimator = LogisticRegression()\n",
    "\n",
    "# 创建Stacking分类器\n",
    "stacking = StackingClassifier(estimators=base_estimators, final_estimator=meta_estimator)\n",
    "\n",
    "# 拟合数据\n",
    "stacking.fit(x_train, y_train)\n",
    "\n",
    "# 预测数据\n",
    "y_pred = stacking.predict(x_test)\n",
    "\n",
    "report = classification_report(y_test, y_pred, output_dict=True)# 提取分类报告中的精确率、召回率和 F1 分数\n",
    "macro_precision = report['macro avg']['precision']\n",
    "macro_recall = report['macro avg']['recall']\n",
    "# 计算 MacroF1\n",
    "macro_f1 = 2 * (macro_precision * macro_recall) / (macro_precision + macro_recall)\n",
    "# 打印MacroF1\n",
    "print(\"MacroF1:\", macro_f1)"
   ],
   "metadata": {
    "collapsed": false
   }
  },
  {
   "cell_type": "code",
   "execution_count": null,
   "outputs": [],
   "source": [
    "#验证数据集\n",
    "df_test=pd.read_csv('C:\\\\Users\\\\zhang\\\\Desktop\\\\服务外包\\\\验证集\\\\validate_1000.csv')\n",
    "df=pd.read_csv('C:\\\\Users\\\\zhang\\\\Desktop\\\\服务外包\\\\训练集\\\\train_10000.csv')\n",
    "y_test_test=np.array(df_test[\"label\"],dtype=\"int\")\n",
    "df_test=df_test.drop(filter_feature,axis=1)\n",
    "df=df.drop(filter_feature,axis=1)"
   ],
   "metadata": {
    "collapsed": false
   }
  },
  {
   "cell_type": "code",
   "execution_count": null,
   "outputs": [],
   "source": [
    "# 创建内核数据集\n",
    "kernel = mf.ImputationKernel(\n",
    "  data=df_test,\n",
    "  save_all_iterations=False,\n",
    "  random_state=42\n",
    ")\n",
    "\n",
    "# 执行多重插补\n",
    "kernel.mice(3)\n",
    "\n",
    "# 获取插补后的数据\n",
    "df_test= kernel.impute_new_data(new_data=df_test).complete_data(0)"
   ],
   "metadata": {
    "collapsed": false
   }
  },
  {
   "cell_type": "code",
   "execution_count": null,
   "outputs": [],
   "source": [
    "x_test_True=np.array(df_test.iloc[:,0:104],dtype=\"double\")\n",
    "x_test_True=x_test_True[:,selected_features]"
   ],
   "metadata": {
    "collapsed": false
   }
  },
  {
   "cell_type": "code",
   "execution_count": null,
   "outputs": [],
   "source": [
    "import json\n",
    "\n",
    "df_test_True= pd.read_json('C:\\\\Users\\\\zhang\\\\Desktop\\\\服务外包\\\\验证集\\\\validate_1000_y_true.json', typ='series')\n",
    "df_test_True= df_test_True.to_frame().reset_index()\n",
    "df_test_True.columns = ['Sample_id', 'y_label']\n",
    "df_test_True\n",
    "y_True=np.array(df_test_True[\"y_label\"],dtype=\"int\")#读入实际的y_label\n",
    "\n",
    "y_pred_True = stacking.predict(x_test_True)\n",
    "report = classification_report(y_True, y_pred_True, output_dict=True)# 提取分类报告中的精确率、召回率和 F1 分数\n",
    "macro_precision = report['macro avg']['precision']\n",
    "macro_recall = report['macro avg']['recall']\n",
    "# 计算 MacroF1\n",
    "macro_f1 = 2 * (macro_precision * macro_recall) / (macro_precision + macro_recall)\n",
    "# 打印MacroF1\n",
    "print(\"MacroF1:\", macro_f1)"
   ],
   "metadata": {
    "collapsed": false
   }
  },
  {
   "cell_type": "code",
   "execution_count": null,
   "outputs": [],
   "source": [
    "scores = cross_val_score(stacking, x_test_True, y_True, cv=10) # 10折交叉验证\n",
    "print(scores)"
   ],
   "metadata": {
    "collapsed": false
   }
  }
 ],
 "metadata": {
  "kernelspec": {
   "display_name": "Python 3",
   "language": "python",
   "name": "python3"
  },
  "language_info": {
   "codemirror_mode": {
    "name": "ipython",
    "version": 2
   },
   "file_extension": ".py",
   "mimetype": "text/x-python",
   "name": "python",
   "nbconvert_exporter": "python",
   "pygments_lexer": "ipython2",
   "version": "2.7.6"
  }
 },
 "nbformat": 4,
 "nbformat_minor": 0
}
